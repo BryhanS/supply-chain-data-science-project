{
 "cells": [
  {
   "cell_type": "code",
   "execution_count": 1,
   "metadata": {},
   "outputs": [],
   "source": [
    "import numpy as np"
   ]
  },
  {
   "cell_type": "code",
   "execution_count": 2,
   "metadata": {},
   "outputs": [],
   "source": [
    "#### simulation of data"
   ]
  },
  {
   "cell_type": "code",
   "execution_count": 9,
   "metadata": {},
   "outputs": [],
   "source": [
    "pineapple_juice = np.random.uniform(2,500,1000).round()\n"
   ]
  },
  {
   "cell_type": "code",
   "execution_count": 11,
   "metadata": {},
   "outputs": [
    {
     "data": {
      "text/plain": [
       "249.586"
      ]
     },
     "execution_count": 11,
     "metadata": {},
     "output_type": "execute_result"
    }
   ],
   "source": [
    "### medin\n",
    "pineapple_juice.mean()\n"
   ]
  },
  {
   "cell_type": "code",
   "execution_count": 12,
   "metadata": {},
   "outputs": [],
   "source": [
    "###m meadian\n",
    "\n",
    "import statistics"
   ]
  },
  {
   "cell_type": "code",
   "execution_count": 13,
   "metadata": {},
   "outputs": [
    {
     "data": {
      "text/plain": [
       "247.5"
      ]
     },
     "execution_count": 13,
     "metadata": {},
     "output_type": "execute_result"
    }
   ],
   "source": [
    "statistics.median(pineapple_juice)"
   ]
  },
  {
   "cell_type": "code",
   "execution_count": 14,
   "metadata": {},
   "outputs": [
    {
     "data": {
      "text/plain": [
       "255.0"
      ]
     },
     "execution_count": 14,
     "metadata": {},
     "output_type": "execute_result"
    }
   ],
   "source": [
    "### mode\n",
    "statistics.mode(pineapple_juice)"
   ]
  },
  {
   "cell_type": "code",
   "execution_count": 16,
   "metadata": {},
   "outputs": [
    {
     "data": {
      "text/plain": [
       "142.17978652289395"
      ]
     },
     "execution_count": 16,
     "metadata": {},
     "output_type": "execute_result"
    }
   ],
   "source": [
    "### mesuares of spread\n",
    "\n",
    "statistics.stdev(pineapple_juice)\n"
   ]
  },
  {
   "cell_type": "code",
   "execution_count": 17,
   "metadata": {},
   "outputs": [],
   "source": [
    "def range_data(data):\n",
    "    a = max(data) - min(data)\n",
    "\n",
    "    return a\n"
   ]
  },
  {
   "cell_type": "code",
   "execution_count": 18,
   "metadata": {},
   "outputs": [
    {
     "data": {
      "text/plain": [
       "497.0"
      ]
     },
     "execution_count": 18,
     "metadata": {},
     "output_type": "execute_result"
    }
   ],
   "source": [
    "range_data(pineapple_juice)"
   ]
  },
  {
   "cell_type": "code",
   "execution_count": 19,
   "metadata": {},
   "outputs": [
    {
     "data": {
      "text/plain": [
       "20215.091695695697"
      ]
     },
     "execution_count": 19,
     "metadata": {},
     "output_type": "execute_result"
    }
   ],
   "source": [
    "##### variance\n",
    "\n",
    "statistics.variance(pineapple_juice)"
   ]
  },
  {
   "cell_type": "code",
   "execution_count": 21,
   "metadata": {},
   "outputs": [
    {
     "data": {
      "text/plain": [
       "247.5"
      ]
     },
     "execution_count": 21,
     "metadata": {},
     "output_type": "execute_result"
    }
   ],
   "source": [
    "### 50 thpercentile\n",
    "np.percentile(pineapple_juice, 50)"
   ]
  },
  {
   "cell_type": "code",
   "execution_count": 22,
   "metadata": {},
   "outputs": [
    {
     "data": {
      "text/plain": [
       "131.0"
      ]
     },
     "execution_count": 22,
     "metadata": {},
     "output_type": "execute_result"
    }
   ],
   "source": [
    "### 25 percentile\n",
    "np.percentile(pineapple_juice, 25)\n"
   ]
  },
  {
   "cell_type": "code",
   "execution_count": 23,
   "metadata": {},
   "outputs": [
    {
     "data": {
      "text/plain": [
       "372.25"
      ]
     },
     "execution_count": 23,
     "metadata": {},
     "output_type": "execute_result"
    }
   ],
   "source": [
    "### 75 percentile\n",
    "np.percentile(pineapple_juice, 75)"
   ]
  },
  {
   "cell_type": "code",
   "execution_count": 25,
   "metadata": {},
   "outputs": [],
   "source": [
    "import pandas as pd"
   ]
  },
  {
   "cell_type": "code",
   "execution_count": 26,
   "metadata": {},
   "outputs": [],
   "source": [
    "cars = pd.read_csv('../asigment/cars.csv')"
   ]
  },
  {
   "cell_type": "code",
   "execution_count": 27,
   "metadata": {},
   "outputs": [
    {
     "name": "stdout",
     "output_type": "stream",
     "text": [
      "<class 'pandas.core.frame.DataFrame'>\n",
      "RangeIndex: 428 entries, 0 to 427\n",
      "Data columns (total 19 columns):\n",
      " #   Column                    Non-Null Count  Dtype  \n",
      "---  ------                    --------------  -----  \n",
      " 0   name                      428 non-null    object \n",
      " 1   sports_car                428 non-null    bool   \n",
      " 2   suv                       428 non-null    bool   \n",
      " 3   wagon                     428 non-null    bool   \n",
      " 4   minivan                   428 non-null    bool   \n",
      " 5   pickup                    428 non-null    bool   \n",
      " 6   all_wheel                 428 non-null    bool   \n",
      " 7   rear_wheel                428 non-null    bool   \n",
      " 8   Price                     428 non-null    int64  \n",
      " 9   Dealer_Cost               428 non-null    int64  \n",
      " 10  Engine_size               428 non-null    float64\n",
      " 11  cylenders                 428 non-null    int64  \n",
      " 12  horsepower                428 non-null    int64  \n",
      " 13  city_miles_per_galloon    414 non-null    float64\n",
      " 14  highway_miles_per_Gallon  414 non-null    float64\n",
      " 15  weight                    426 non-null    float64\n",
      " 16  base_wheeel               426 non-null    float64\n",
      " 17  length                    402 non-null    float64\n",
      " 18  width                     400 non-null    float64\n",
      "dtypes: bool(7), float64(7), int64(4), object(1)\n",
      "memory usage: 43.2+ KB\n"
     ]
    }
   ],
   "source": [
    "cars.info()"
   ]
  },
  {
   "cell_type": "code",
   "execution_count": 28,
   "metadata": {},
   "outputs": [
    {
     "data": {
      "text/html": [
       "<div>\n",
       "<style scoped>\n",
       "    .dataframe tbody tr th:only-of-type {\n",
       "        vertical-align: middle;\n",
       "    }\n",
       "\n",
       "    .dataframe tbody tr th {\n",
       "        vertical-align: top;\n",
       "    }\n",
       "\n",
       "    .dataframe thead th {\n",
       "        text-align: right;\n",
       "    }\n",
       "</style>\n",
       "<table border=\"1\" class=\"dataframe\">\n",
       "  <thead>\n",
       "    <tr style=\"text-align: right;\">\n",
       "      <th></th>\n",
       "      <th>Price</th>\n",
       "      <th>Dealer_Cost</th>\n",
       "      <th>Engine_size</th>\n",
       "      <th>cylenders</th>\n",
       "      <th>horsepower</th>\n",
       "      <th>city_miles_per_galloon</th>\n",
       "      <th>highway_miles_per_Gallon</th>\n",
       "      <th>weight</th>\n",
       "      <th>base_wheeel</th>\n",
       "      <th>length</th>\n",
       "      <th>width</th>\n",
       "    </tr>\n",
       "  </thead>\n",
       "  <tbody>\n",
       "    <tr>\n",
       "      <th>count</th>\n",
       "      <td>428.000000</td>\n",
       "      <td>428.000000</td>\n",
       "      <td>428.000000</td>\n",
       "      <td>428.000000</td>\n",
       "      <td>428.000000</td>\n",
       "      <td>414.000000</td>\n",
       "      <td>414.000000</td>\n",
       "      <td>426.000000</td>\n",
       "      <td>426.000000</td>\n",
       "      <td>402.000000</td>\n",
       "      <td>400.000000</td>\n",
       "    </tr>\n",
       "    <tr>\n",
       "      <th>mean</th>\n",
       "      <td>32774.855140</td>\n",
       "      <td>30014.700935</td>\n",
       "      <td>3.196729</td>\n",
       "      <td>5.775701</td>\n",
       "      <td>215.885514</td>\n",
       "      <td>20.089372</td>\n",
       "      <td>26.905797</td>\n",
       "      <td>3577.213615</td>\n",
       "      <td>108.173709</td>\n",
       "      <td>185.126866</td>\n",
       "      <td>71.292500</td>\n",
       "    </tr>\n",
       "    <tr>\n",
       "      <th>std</th>\n",
       "      <td>19431.716674</td>\n",
       "      <td>17642.117750</td>\n",
       "      <td>1.108595</td>\n",
       "      <td>1.622779</td>\n",
       "      <td>71.836032</td>\n",
       "      <td>5.213062</td>\n",
       "      <td>5.696804</td>\n",
       "      <td>760.437663</td>\n",
       "      <td>8.326449</td>\n",
       "      <td>13.312523</td>\n",
       "      <td>3.393484</td>\n",
       "    </tr>\n",
       "    <tr>\n",
       "      <th>min</th>\n",
       "      <td>10280.000000</td>\n",
       "      <td>9875.000000</td>\n",
       "      <td>1.300000</td>\n",
       "      <td>-1.000000</td>\n",
       "      <td>73.000000</td>\n",
       "      <td>10.000000</td>\n",
       "      <td>12.000000</td>\n",
       "      <td>1850.000000</td>\n",
       "      <td>89.000000</td>\n",
       "      <td>143.000000</td>\n",
       "      <td>64.000000</td>\n",
       "    </tr>\n",
       "    <tr>\n",
       "      <th>25%</th>\n",
       "      <td>20334.250000</td>\n",
       "      <td>18866.000000</td>\n",
       "      <td>2.375000</td>\n",
       "      <td>4.000000</td>\n",
       "      <td>165.000000</td>\n",
       "      <td>17.000000</td>\n",
       "      <td>24.000000</td>\n",
       "      <td>3102.000000</td>\n",
       "      <td>103.000000</td>\n",
       "      <td>177.000000</td>\n",
       "      <td>69.000000</td>\n",
       "    </tr>\n",
       "    <tr>\n",
       "      <th>50%</th>\n",
       "      <td>27635.000000</td>\n",
       "      <td>25294.500000</td>\n",
       "      <td>3.000000</td>\n",
       "      <td>6.000000</td>\n",
       "      <td>210.000000</td>\n",
       "      <td>19.000000</td>\n",
       "      <td>26.000000</td>\n",
       "      <td>3474.500000</td>\n",
       "      <td>107.000000</td>\n",
       "      <td>186.000000</td>\n",
       "      <td>71.000000</td>\n",
       "    </tr>\n",
       "    <tr>\n",
       "      <th>75%</th>\n",
       "      <td>39205.000000</td>\n",
       "      <td>35710.250000</td>\n",
       "      <td>3.900000</td>\n",
       "      <td>6.000000</td>\n",
       "      <td>255.000000</td>\n",
       "      <td>21.000000</td>\n",
       "      <td>29.000000</td>\n",
       "      <td>3974.250000</td>\n",
       "      <td>112.000000</td>\n",
       "      <td>193.000000</td>\n",
       "      <td>73.000000</td>\n",
       "    </tr>\n",
       "    <tr>\n",
       "      <th>max</th>\n",
       "      <td>192465.000000</td>\n",
       "      <td>173560.000000</td>\n",
       "      <td>8.300000</td>\n",
       "      <td>12.000000</td>\n",
       "      <td>500.000000</td>\n",
       "      <td>60.000000</td>\n",
       "      <td>66.000000</td>\n",
       "      <td>7190.000000</td>\n",
       "      <td>144.000000</td>\n",
       "      <td>227.000000</td>\n",
       "      <td>81.000000</td>\n",
       "    </tr>\n",
       "  </tbody>\n",
       "</table>\n",
       "</div>"
      ],
      "text/plain": [
       "               Price    Dealer_Cost  Engine_size   cylenders  horsepower  \\\n",
       "count     428.000000     428.000000   428.000000  428.000000  428.000000   \n",
       "mean    32774.855140   30014.700935     3.196729    5.775701  215.885514   \n",
       "std     19431.716674   17642.117750     1.108595    1.622779   71.836032   \n",
       "min     10280.000000    9875.000000     1.300000   -1.000000   73.000000   \n",
       "25%     20334.250000   18866.000000     2.375000    4.000000  165.000000   \n",
       "50%     27635.000000   25294.500000     3.000000    6.000000  210.000000   \n",
       "75%     39205.000000   35710.250000     3.900000    6.000000  255.000000   \n",
       "max    192465.000000  173560.000000     8.300000   12.000000  500.000000   \n",
       "\n",
       "       city_miles_per_galloon  highway_miles_per_Gallon       weight  \\\n",
       "count              414.000000                414.000000   426.000000   \n",
       "mean                20.089372                 26.905797  3577.213615   \n",
       "std                  5.213062                  5.696804   760.437663   \n",
       "min                 10.000000                 12.000000  1850.000000   \n",
       "25%                 17.000000                 24.000000  3102.000000   \n",
       "50%                 19.000000                 26.000000  3474.500000   \n",
       "75%                 21.000000                 29.000000  3974.250000   \n",
       "max                 60.000000                 66.000000  7190.000000   \n",
       "\n",
       "       base_wheeel      length       width  \n",
       "count   426.000000  402.000000  400.000000  \n",
       "mean    108.173709  185.126866   71.292500  \n",
       "std       8.326449   13.312523    3.393484  \n",
       "min      89.000000  143.000000   64.000000  \n",
       "25%     103.000000  177.000000   69.000000  \n",
       "50%     107.000000  186.000000   71.000000  \n",
       "75%     112.000000  193.000000   73.000000  \n",
       "max     144.000000  227.000000   81.000000  "
      ]
     },
     "execution_count": 28,
     "metadata": {},
     "output_type": "execute_result"
    }
   ],
   "source": [
    "cars.describe()"
   ]
  },
  {
   "cell_type": "code",
   "execution_count": 30,
   "metadata": {},
   "outputs": [
    {
     "data": {
      "text/html": [
       "<div>\n",
       "<style scoped>\n",
       "    .dataframe tbody tr th:only-of-type {\n",
       "        vertical-align: middle;\n",
       "    }\n",
       "\n",
       "    .dataframe tbody tr th {\n",
       "        vertical-align: top;\n",
       "    }\n",
       "\n",
       "    .dataframe thead th {\n",
       "        text-align: right;\n",
       "    }\n",
       "</style>\n",
       "<table border=\"1\" class=\"dataframe\">\n",
       "  <thead>\n",
       "    <tr style=\"text-align: right;\">\n",
       "      <th></th>\n",
       "      <th>horsepower</th>\n",
       "      <th>city_miles_per_galloon</th>\n",
       "    </tr>\n",
       "  </thead>\n",
       "  <tbody>\n",
       "    <tr>\n",
       "      <th>horsepower</th>\n",
       "      <td>1.000000</td>\n",
       "      <td>-0.666256</td>\n",
       "    </tr>\n",
       "    <tr>\n",
       "      <th>city_miles_per_galloon</th>\n",
       "      <td>-0.666256</td>\n",
       "      <td>1.000000</td>\n",
       "    </tr>\n",
       "  </tbody>\n",
       "</table>\n",
       "</div>"
      ],
      "text/plain": [
       "                        horsepower  city_miles_per_galloon\n",
       "horsepower                1.000000               -0.666256\n",
       "city_miles_per_galloon   -0.666256                1.000000"
      ]
     },
     "execution_count": 30,
     "metadata": {},
     "output_type": "execute_result"
    }
   ],
   "source": [
    "### subsetting\n",
    "cars.iloc[:,[12,13]].corr()"
   ]
  },
  {
   "cell_type": "code",
   "execution_count": 32,
   "metadata": {},
   "outputs": [
    {
     "data": {
      "text/html": [
       "<div>\n",
       "<style scoped>\n",
       "    .dataframe tbody tr th:only-of-type {\n",
       "        vertical-align: middle;\n",
       "    }\n",
       "\n",
       "    .dataframe tbody tr th {\n",
       "        vertical-align: top;\n",
       "    }\n",
       "\n",
       "    .dataframe thead th {\n",
       "        text-align: right;\n",
       "    }\n",
       "</style>\n",
       "<table border=\"1\" class=\"dataframe\">\n",
       "  <thead>\n",
       "    <tr style=\"text-align: right;\">\n",
       "      <th></th>\n",
       "      <th>horsepower</th>\n",
       "      <th>city_miles_per_galloon</th>\n",
       "    </tr>\n",
       "  </thead>\n",
       "  <tbody>\n",
       "    <tr>\n",
       "      <th>horsepower</th>\n",
       "      <td>1.000000</td>\n",
       "      <td>-0.666256</td>\n",
       "    </tr>\n",
       "    <tr>\n",
       "      <th>city_miles_per_galloon</th>\n",
       "      <td>-0.666256</td>\n",
       "      <td>1.000000</td>\n",
       "    </tr>\n",
       "  </tbody>\n",
       "</table>\n",
       "</div>"
      ],
      "text/plain": [
       "                        horsepower  city_miles_per_galloon\n",
       "horsepower                1.000000               -0.666256\n",
       "city_miles_per_galloon   -0.666256                1.000000"
      ]
     },
     "execution_count": 32,
     "metadata": {},
     "output_type": "execute_result"
    }
   ],
   "source": [
    "cars.loc[:,['horsepower','city_miles_per_galloon']].corr()"
   ]
  },
  {
   "cell_type": "code",
   "execution_count": 33,
   "metadata": {},
   "outputs": [
    {
     "data": {
      "text/html": [
       "<div>\n",
       "<style scoped>\n",
       "    .dataframe tbody tr th:only-of-type {\n",
       "        vertical-align: middle;\n",
       "    }\n",
       "\n",
       "    .dataframe tbody tr th {\n",
       "        vertical-align: top;\n",
       "    }\n",
       "\n",
       "    .dataframe thead th {\n",
       "        text-align: right;\n",
       "    }\n",
       "</style>\n",
       "<table border=\"1\" class=\"dataframe\">\n",
       "  <thead>\n",
       "    <tr style=\"text-align: right;\">\n",
       "      <th></th>\n",
       "      <th>horsepower</th>\n",
       "      <th>city_miles_per_galloon</th>\n",
       "    </tr>\n",
       "  </thead>\n",
       "  <tbody>\n",
       "    <tr>\n",
       "      <th>horsepower</th>\n",
       "      <td>1.000000</td>\n",
       "      <td>-0.666256</td>\n",
       "    </tr>\n",
       "    <tr>\n",
       "      <th>city_miles_per_galloon</th>\n",
       "      <td>-0.666256</td>\n",
       "      <td>1.000000</td>\n",
       "    </tr>\n",
       "  </tbody>\n",
       "</table>\n",
       "</div>"
      ],
      "text/plain": [
       "                        horsepower  city_miles_per_galloon\n",
       "horsepower                1.000000               -0.666256\n",
       "city_miles_per_galloon   -0.666256                1.000000"
      ]
     },
     "execution_count": 33,
     "metadata": {},
     "output_type": "execute_result"
    }
   ],
   "source": [
    "cars[['horsepower','city_miles_per_galloon']].corr()"
   ]
  },
  {
   "cell_type": "code",
   "execution_count": 34,
   "metadata": {},
   "outputs": [
    {
     "data": {
      "text/plain": [
       "Index(['name', 'sports_car', 'suv', 'wagon', 'minivan', 'pickup', 'all_wheel',\n",
       "       'rear_wheel', 'Price', 'Dealer_Cost', 'Engine_size', 'cylenders',\n",
       "       'horsepower', 'city_miles_per_galloon', 'highway_miles_per_Gallon',\n",
       "       'weight', 'base_wheeel', 'length', 'width'],\n",
       "      dtype='object')"
      ]
     },
     "execution_count": 34,
     "metadata": {},
     "output_type": "execute_result"
    }
   ],
   "source": [
    "cars.columns"
   ]
  },
  {
   "cell_type": "code",
   "execution_count": 35,
   "metadata": {},
   "outputs": [
    {
     "data": {
      "text/plain": [
       "cylenders\n",
       " 6     190\n",
       " 4     136\n",
       " 8      87\n",
       " 5       7\n",
       " 12      3\n",
       " 10      2\n",
       "-1       2\n",
       " 3       1\n",
       "Name: count, dtype: int64"
      ]
     },
     "execution_count": 35,
     "metadata": {},
     "output_type": "execute_result"
    }
   ],
   "source": [
    "cars.cylenders.value_counts()"
   ]
  },
  {
   "cell_type": "code",
   "execution_count": 37,
   "metadata": {},
   "outputs": [
    {
     "data": {
      "text/html": [
       "<div>\n",
       "<style scoped>\n",
       "    .dataframe tbody tr th:only-of-type {\n",
       "        vertical-align: middle;\n",
       "    }\n",
       "\n",
       "    .dataframe tbody tr th {\n",
       "        vertical-align: top;\n",
       "    }\n",
       "\n",
       "    .dataframe thead th {\n",
       "        text-align: right;\n",
       "    }\n",
       "</style>\n",
       "<table border=\"1\" class=\"dataframe\">\n",
       "  <thead>\n",
       "    <tr style=\"text-align: right;\">\n",
       "      <th></th>\n",
       "      <th>Price</th>\n",
       "      <th>horsepower</th>\n",
       "      <th>city_miles_per_galloon</th>\n",
       "      <th>weight</th>\n",
       "      <th>length</th>\n",
       "    </tr>\n",
       "  </thead>\n",
       "  <tbody>\n",
       "    <tr>\n",
       "      <th>Price</th>\n",
       "      <td>1.000000</td>\n",
       "      <td>0.826945</td>\n",
       "      <td>-0.461130</td>\n",
       "      <td>0.449336</td>\n",
       "      <td>0.214889</td>\n",
       "    </tr>\n",
       "    <tr>\n",
       "      <th>horsepower</th>\n",
       "      <td>0.826945</td>\n",
       "      <td>1.000000</td>\n",
       "      <td>-0.666256</td>\n",
       "      <td>0.631525</td>\n",
       "      <td>0.379936</td>\n",
       "    </tr>\n",
       "    <tr>\n",
       "      <th>city_miles_per_galloon</th>\n",
       "      <td>-0.461130</td>\n",
       "      <td>-0.666256</td>\n",
       "      <td>1.000000</td>\n",
       "      <td>-0.737192</td>\n",
       "      <td>-0.464826</td>\n",
       "    </tr>\n",
       "    <tr>\n",
       "      <th>weight</th>\n",
       "      <td>0.449336</td>\n",
       "      <td>0.631525</td>\n",
       "      <td>-0.737192</td>\n",
       "      <td>1.000000</td>\n",
       "      <td>0.667169</td>\n",
       "    </tr>\n",
       "    <tr>\n",
       "      <th>length</th>\n",
       "      <td>0.214889</td>\n",
       "      <td>0.379936</td>\n",
       "      <td>-0.464826</td>\n",
       "      <td>0.667169</td>\n",
       "      <td>1.000000</td>\n",
       "    </tr>\n",
       "  </tbody>\n",
       "</table>\n",
       "</div>"
      ],
      "text/plain": [
       "                           Price  horsepower  city_miles_per_galloon  \\\n",
       "Price                   1.000000    0.826945               -0.461130   \n",
       "horsepower              0.826945    1.000000               -0.666256   \n",
       "city_miles_per_galloon -0.461130   -0.666256                1.000000   \n",
       "weight                  0.449336    0.631525               -0.737192   \n",
       "length                  0.214889    0.379936               -0.464826   \n",
       "\n",
       "                          weight    length  \n",
       "Price                   0.449336  0.214889  \n",
       "horsepower              0.631525  0.379936  \n",
       "city_miles_per_galloon -0.737192 -0.464826  \n",
       "weight                  1.000000  0.667169  \n",
       "length                  0.667169  1.000000  "
      ]
     },
     "execution_count": 37,
     "metadata": {},
     "output_type": "execute_result"
    }
   ],
   "source": [
    "cars[['Price','horsepower','city_miles_per_galloon','weight','length']].corr()"
   ]
  },
  {
   "cell_type": "code",
   "execution_count": 40,
   "metadata": {},
   "outputs": [],
   "source": [
    "### dropping nas (428, 19)\n",
    "cars.shape\n",
    "cars_clean = cars.dropna(axis=0)"
   ]
  },
  {
   "cell_type": "code",
   "execution_count": 41,
   "metadata": {},
   "outputs": [
    {
     "data": {
      "text/html": [
       "<div>\n",
       "<style scoped>\n",
       "    .dataframe tbody tr th:only-of-type {\n",
       "        vertical-align: middle;\n",
       "    }\n",
       "\n",
       "    .dataframe tbody tr th {\n",
       "        vertical-align: top;\n",
       "    }\n",
       "\n",
       "    .dataframe thead th {\n",
       "        text-align: right;\n",
       "    }\n",
       "</style>\n",
       "<table border=\"1\" class=\"dataframe\">\n",
       "  <thead>\n",
       "    <tr style=\"text-align: right;\">\n",
       "      <th></th>\n",
       "      <th>Price</th>\n",
       "      <th>horsepower</th>\n",
       "      <th>city_miles_per_galloon</th>\n",
       "      <th>weight</th>\n",
       "      <th>length</th>\n",
       "    </tr>\n",
       "  </thead>\n",
       "  <tbody>\n",
       "    <tr>\n",
       "      <th>Price</th>\n",
       "      <td>1.000000</td>\n",
       "      <td>0.835074</td>\n",
       "      <td>-0.485213</td>\n",
       "      <td>0.475994</td>\n",
       "      <td>0.209553</td>\n",
       "    </tr>\n",
       "    <tr>\n",
       "      <th>horsepower</th>\n",
       "      <td>0.835074</td>\n",
       "      <td>1.000000</td>\n",
       "      <td>-0.671801</td>\n",
       "      <td>0.631058</td>\n",
       "      <td>0.381426</td>\n",
       "    </tr>\n",
       "    <tr>\n",
       "      <th>city_miles_per_galloon</th>\n",
       "      <td>-0.485213</td>\n",
       "      <td>-0.671801</td>\n",
       "      <td>1.000000</td>\n",
       "      <td>-0.736166</td>\n",
       "      <td>-0.467586</td>\n",
       "    </tr>\n",
       "    <tr>\n",
       "      <th>weight</th>\n",
       "      <td>0.475994</td>\n",
       "      <td>0.631058</td>\n",
       "      <td>-0.736166</td>\n",
       "      <td>1.000000</td>\n",
       "      <td>0.652893</td>\n",
       "    </tr>\n",
       "    <tr>\n",
       "      <th>length</th>\n",
       "      <td>0.209553</td>\n",
       "      <td>0.381426</td>\n",
       "      <td>-0.467586</td>\n",
       "      <td>0.652893</td>\n",
       "      <td>1.000000</td>\n",
       "    </tr>\n",
       "  </tbody>\n",
       "</table>\n",
       "</div>"
      ],
      "text/plain": [
       "                           Price  horsepower  city_miles_per_galloon  \\\n",
       "Price                   1.000000    0.835074               -0.485213   \n",
       "horsepower              0.835074    1.000000               -0.671801   \n",
       "city_miles_per_galloon -0.485213   -0.671801                1.000000   \n",
       "weight                  0.475994    0.631058               -0.736166   \n",
       "length                  0.209553    0.381426               -0.467586   \n",
       "\n",
       "                          weight    length  \n",
       "Price                   0.475994  0.209553  \n",
       "horsepower              0.631058  0.381426  \n",
       "city_miles_per_galloon -0.736166 -0.467586  \n",
       "weight                  1.000000  0.652893  \n",
       "length                  0.652893  1.000000  "
      ]
     },
     "execution_count": 41,
     "metadata": {},
     "output_type": "execute_result"
    }
   ],
   "source": [
    "### continuos variables of intrest\n",
    "\n",
    "cars_clean[['Price','horsepower','city_miles_per_galloon','weight','length']].corr()"
   ]
  },
  {
   "cell_type": "code",
   "execution_count": 42,
   "metadata": {},
   "outputs": [],
   "source": [
    "correlation_data = cars_clean[['Price','horsepower','city_miles_per_galloon','weight','length']].corr()\n"
   ]
  },
  {
   "cell_type": "code",
   "execution_count": 43,
   "metadata": {},
   "outputs": [
    {
     "data": {
      "text/plain": [
       "0.6310580962198197"
      ]
     },
     "execution_count": 43,
     "metadata": {},
     "output_type": "execute_result"
    }
   ],
   "source": [
    "correlation_data.loc['horsepower','weight']"
   ]
  },
  {
   "cell_type": "code",
   "execution_count": 45,
   "metadata": {},
   "outputs": [],
   "source": [
    "import seaborn as sns"
   ]
  },
  {
   "cell_type": "code",
   "execution_count": 46,
   "metadata": {},
   "outputs": [
    {
     "data": {
      "text/plain": [
       "<Axes: >"
      ]
     },
     "execution_count": 46,
     "metadata": {},
     "output_type": "execute_result"
    },
    {
     "data": {
      "image/png": "[encoded data removed]",
      "text/plain": [
       "<Figure size 640x480 with 2 Axes>"
      ]
     },
     "metadata": {},
     "output_type": "display_data"
    }
   ],
   "source": [
    "sns.heatmap(correlation_data)"
   ]
  }
 ],
 "metadata": {
  "kernelspec": {
   "display_name": "venv",
   "language": "python",
   "name": "python3"
  },
  "language_info": {
   "codemirror_mode": {
    "name": "ipython",
    "version": 3
   },
   "file_extension": ".py",
   "mimetype": "text/x-python",
   "name": "python",
   "nbconvert_exporter": "python",
   "pygments_lexer": "ipython3",
   "version": "3.9.6"
  },
  "orig_nbformat": 4
 },
 "nbformat": 4,
 "nbformat_minor": 2
}
