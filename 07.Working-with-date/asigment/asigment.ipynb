{
 "cells": [
  {
   "cell_type": "code",
   "execution_count": 2,
   "metadata": {},
   "outputs": [],
   "source": [
    "import pandas as pd\n",
    "from datetime import datetime\n",
    "import numpy as np\n",
    "import matplotlib.pyplot as plt"
   ]
  },
  {
   "cell_type": "code",
   "execution_count": 3,
   "metadata": {},
   "outputs": [
    {
     "data": {
      "text/plain": [
       "(484330, 11)"
      ]
     },
     "execution_count": 3,
     "metadata": {},
     "output_type": "execute_result"
    }
   ],
   "source": [
    "twentyeleven_data = pd.read_csv('twentyeleven.csv')\n",
    "twentyeleven_data.shape\n"
   ]
  },
  {
   "cell_type": "code",
   "execution_count": 4,
   "metadata": {},
   "outputs": [
    {
     "data": {
      "text/plain": [
       "(484330, 11)"
      ]
     },
     "execution_count": 4,
     "metadata": {},
     "output_type": "execute_result"
    }
   ],
   "source": [
    "twentyeleven_data = twentyeleven_data.drop_duplicates()\n",
    "twentyeleven_data.shape"
   ]
  },
  {
   "cell_type": "code",
   "execution_count": 5,
   "metadata": {},
   "outputs": [
    {
     "data": {
      "text/plain": [
       "Index(['Invoice', 'StockCode', 'Description', 'Quantity', 'InvoiceDate',\n",
       "       'Price', 'Customer ID', 'Country', 'date', 'revenue', 'year'],\n",
       "      dtype='object')"
      ]
     },
     "execution_count": 5,
     "metadata": {},
     "output_type": "execute_result"
    }
   ],
   "source": [
    "twentyeleven_data.columns"
   ]
  },
  {
   "cell_type": "code",
   "execution_count": 6,
   "metadata": {},
   "outputs": [
    {
     "data": {
      "text/html": [
       "<div>\n",
       "<style scoped>\n",
       "    .dataframe tbody tr th:only-of-type {\n",
       "        vertical-align: middle;\n",
       "    }\n",
       "\n",
       "    .dataframe tbody tr th {\n",
       "        vertical-align: top;\n",
       "    }\n",
       "\n",
       "    .dataframe thead th {\n",
       "        text-align: right;\n",
       "    }\n",
       "</style>\n",
       "<table border=\"1\" class=\"dataframe\">\n",
       "  <thead>\n",
       "    <tr style=\"text-align: right;\">\n",
       "      <th></th>\n",
       "      <th>Invoice</th>\n",
       "      <th>StockCode</th>\n",
       "      <th>Description</th>\n",
       "      <th>Quantity</th>\n",
       "      <th>InvoiceDate</th>\n",
       "      <th>Price</th>\n",
       "      <th>Customer ID</th>\n",
       "      <th>Country</th>\n",
       "      <th>date</th>\n",
       "      <th>revenue</th>\n",
       "      <th>year</th>\n",
       "    </tr>\n",
       "  </thead>\n",
       "  <tbody>\n",
       "    <tr>\n",
       "      <th>0</th>\n",
       "      <td>539993.0</td>\n",
       "      <td>22386</td>\n",
       "      <td>JUMBO BAG PINK POLKADOT</td>\n",
       "      <td>10</td>\n",
       "      <td>2011-01-04T10:00:00Z</td>\n",
       "      <td>1.95</td>\n",
       "      <td>13313.0</td>\n",
       "      <td>United Kingdom</td>\n",
       "      <td>2011-01-04</td>\n",
       "      <td>19.50</td>\n",
       "      <td>2011</td>\n",
       "    </tr>\n",
       "    <tr>\n",
       "      <th>1</th>\n",
       "      <td>539993.0</td>\n",
       "      <td>21499</td>\n",
       "      <td>BLUE POLKADOT WRAP</td>\n",
       "      <td>25</td>\n",
       "      <td>2011-01-04T10:00:00Z</td>\n",
       "      <td>0.42</td>\n",
       "      <td>13313.0</td>\n",
       "      <td>United Kingdom</td>\n",
       "      <td>2011-01-04</td>\n",
       "      <td>10.50</td>\n",
       "      <td>2011</td>\n",
       "    </tr>\n",
       "    <tr>\n",
       "      <th>2</th>\n",
       "      <td>539993.0</td>\n",
       "      <td>21498</td>\n",
       "      <td>RED RETROSPOT WRAP</td>\n",
       "      <td>25</td>\n",
       "      <td>2011-01-04T10:00:00Z</td>\n",
       "      <td>0.42</td>\n",
       "      <td>13313.0</td>\n",
       "      <td>United Kingdom</td>\n",
       "      <td>2011-01-04</td>\n",
       "      <td>10.50</td>\n",
       "      <td>2011</td>\n",
       "    </tr>\n",
       "    <tr>\n",
       "      <th>3</th>\n",
       "      <td>539993.0</td>\n",
       "      <td>22379</td>\n",
       "      <td>RECYCLING BAG RETROSPOT</td>\n",
       "      <td>5</td>\n",
       "      <td>2011-01-04T10:00:00Z</td>\n",
       "      <td>2.10</td>\n",
       "      <td>13313.0</td>\n",
       "      <td>United Kingdom</td>\n",
       "      <td>2011-01-04</td>\n",
       "      <td>10.50</td>\n",
       "      <td>2011</td>\n",
       "    </tr>\n",
       "    <tr>\n",
       "      <th>4</th>\n",
       "      <td>539993.0</td>\n",
       "      <td>20718</td>\n",
       "      <td>RED RETROSPOT SHOPPER BAG</td>\n",
       "      <td>10</td>\n",
       "      <td>2011-01-04T10:00:00Z</td>\n",
       "      <td>1.25</td>\n",
       "      <td>13313.0</td>\n",
       "      <td>United Kingdom</td>\n",
       "      <td>2011-01-04</td>\n",
       "      <td>12.50</td>\n",
       "      <td>2011</td>\n",
       "    </tr>\n",
       "    <tr>\n",
       "      <th>...</th>\n",
       "      <td>...</td>\n",
       "      <td>...</td>\n",
       "      <td>...</td>\n",
       "      <td>...</td>\n",
       "      <td>...</td>\n",
       "      <td>...</td>\n",
       "      <td>...</td>\n",
       "      <td>...</td>\n",
       "      <td>...</td>\n",
       "      <td>...</td>\n",
       "      <td>...</td>\n",
       "    </tr>\n",
       "    <tr>\n",
       "      <th>484325</th>\n",
       "      <td>581587.0</td>\n",
       "      <td>22899</td>\n",
       "      <td>CHILDREN'S APRON DOLLY GIRL</td>\n",
       "      <td>6</td>\n",
       "      <td>2011-12-09T12:50:00Z</td>\n",
       "      <td>2.10</td>\n",
       "      <td>12680.0</td>\n",
       "      <td>France</td>\n",
       "      <td>2011-12-09</td>\n",
       "      <td>12.60</td>\n",
       "      <td>2011</td>\n",
       "    </tr>\n",
       "    <tr>\n",
       "      <th>484326</th>\n",
       "      <td>581587.0</td>\n",
       "      <td>23254</td>\n",
       "      <td>CHILDRENS CUTLERY DOLLY GIRL</td>\n",
       "      <td>4</td>\n",
       "      <td>2011-12-09T12:50:00Z</td>\n",
       "      <td>4.15</td>\n",
       "      <td>12680.0</td>\n",
       "      <td>France</td>\n",
       "      <td>2011-12-09</td>\n",
       "      <td>16.60</td>\n",
       "      <td>2011</td>\n",
       "    </tr>\n",
       "    <tr>\n",
       "      <th>484327</th>\n",
       "      <td>581587.0</td>\n",
       "      <td>23255</td>\n",
       "      <td>CHILDRENS CUTLERY CIRCUS PARADE</td>\n",
       "      <td>4</td>\n",
       "      <td>2011-12-09T12:50:00Z</td>\n",
       "      <td>4.15</td>\n",
       "      <td>12680.0</td>\n",
       "      <td>France</td>\n",
       "      <td>2011-12-09</td>\n",
       "      <td>16.60</td>\n",
       "      <td>2011</td>\n",
       "    </tr>\n",
       "    <tr>\n",
       "      <th>484328</th>\n",
       "      <td>581587.0</td>\n",
       "      <td>22138</td>\n",
       "      <td>BAKING SET 9 PIECE RETROSPOT</td>\n",
       "      <td>3</td>\n",
       "      <td>2011-12-09T12:50:00Z</td>\n",
       "      <td>4.95</td>\n",
       "      <td>12680.0</td>\n",
       "      <td>France</td>\n",
       "      <td>2011-12-09</td>\n",
       "      <td>14.85</td>\n",
       "      <td>2011</td>\n",
       "    </tr>\n",
       "    <tr>\n",
       "      <th>484329</th>\n",
       "      <td>581587.0</td>\n",
       "      <td>POST</td>\n",
       "      <td>POSTAGE</td>\n",
       "      <td>1</td>\n",
       "      <td>2011-12-09T12:50:00Z</td>\n",
       "      <td>18.00</td>\n",
       "      <td>12680.0</td>\n",
       "      <td>France</td>\n",
       "      <td>2011-12-09</td>\n",
       "      <td>18.00</td>\n",
       "      <td>2011</td>\n",
       "    </tr>\n",
       "  </tbody>\n",
       "</table>\n",
       "<p>484330 rows × 11 columns</p>\n",
       "</div>"
      ],
      "text/plain": [
       "         Invoice StockCode                      Description  Quantity  \\\n",
       "0       539993.0     22386          JUMBO BAG PINK POLKADOT        10   \n",
       "1       539993.0     21499               BLUE POLKADOT WRAP        25   \n",
       "2       539993.0     21498               RED RETROSPOT WRAP        25   \n",
       "3       539993.0     22379          RECYCLING BAG RETROSPOT         5   \n",
       "4       539993.0     20718        RED RETROSPOT SHOPPER BAG        10   \n",
       "...          ...       ...                              ...       ...   \n",
       "484325  581587.0     22899      CHILDREN'S APRON DOLLY GIRL         6   \n",
       "484326  581587.0     23254     CHILDRENS CUTLERY DOLLY GIRL         4   \n",
       "484327  581587.0     23255  CHILDRENS CUTLERY CIRCUS PARADE         4   \n",
       "484328  581587.0     22138     BAKING SET 9 PIECE RETROSPOT         3   \n",
       "484329  581587.0      POST                          POSTAGE         1   \n",
       "\n",
       "                 InvoiceDate  Price  Customer ID         Country        date  \\\n",
       "0       2011-01-04T10:00:00Z   1.95      13313.0  United Kingdom  2011-01-04   \n",
       "1       2011-01-04T10:00:00Z   0.42      13313.0  United Kingdom  2011-01-04   \n",
       "2       2011-01-04T10:00:00Z   0.42      13313.0  United Kingdom  2011-01-04   \n",
       "3       2011-01-04T10:00:00Z   2.10      13313.0  United Kingdom  2011-01-04   \n",
       "4       2011-01-04T10:00:00Z   1.25      13313.0  United Kingdom  2011-01-04   \n",
       "...                      ...    ...          ...             ...         ...   \n",
       "484325  2011-12-09T12:50:00Z   2.10      12680.0          France  2011-12-09   \n",
       "484326  2011-12-09T12:50:00Z   4.15      12680.0          France  2011-12-09   \n",
       "484327  2011-12-09T12:50:00Z   4.15      12680.0          France  2011-12-09   \n",
       "484328  2011-12-09T12:50:00Z   4.95      12680.0          France  2011-12-09   \n",
       "484329  2011-12-09T12:50:00Z  18.00      12680.0          France  2011-12-09   \n",
       "\n",
       "        revenue  year  \n",
       "0         19.50  2011  \n",
       "1         10.50  2011  \n",
       "2         10.50  2011  \n",
       "3         10.50  2011  \n",
       "4         12.50  2011  \n",
       "...         ...   ...  \n",
       "484325    12.60  2011  \n",
       "484326    16.60  2011  \n",
       "484327    16.60  2011  \n",
       "484328    14.85  2011  \n",
       "484329    18.00  2011  \n",
       "\n",
       "[484330 rows x 11 columns]"
      ]
     },
     "execution_count": 6,
     "metadata": {},
     "output_type": "execute_result"
    }
   ],
   "source": [
    "twentyeleven_data"
   ]
  },
  {
   "cell_type": "code",
   "execution_count": 7,
   "metadata": {},
   "outputs": [
    {
     "name": "stdout",
     "output_type": "stream",
     "text": [
      "<class 'pandas.core.frame.DataFrame'>\n",
      "RangeIndex: 484330 entries, 0 to 484329\n",
      "Data columns (total 11 columns):\n",
      " #   Column       Non-Null Count   Dtype  \n",
      "---  ------       --------------   -----  \n",
      " 0   Invoice      484329 non-null  float64\n",
      " 1   StockCode    484330 non-null  object \n",
      " 2   Description  484330 non-null  object \n",
      " 3   Quantity     484330 non-null  int64  \n",
      " 4   InvoiceDate  484330 non-null  object \n",
      " 5   Price        484330 non-null  float64\n",
      " 6   Customer ID  367058 non-null  float64\n",
      " 7   Country      484330 non-null  object \n",
      " 8   date         484330 non-null  object \n",
      " 9   revenue      484330 non-null  float64\n",
      " 10  year         484330 non-null  int64  \n",
      "dtypes: float64(4), int64(2), object(5)\n",
      "memory usage: 40.6+ MB\n"
     ]
    }
   ],
   "source": [
    "twentyeleven_data.info()"
   ]
  },
  {
   "cell_type": "code",
   "execution_count": 8,
   "metadata": {},
   "outputs": [
    {
     "name": "stdout",
     "output_type": "stream",
     "text": [
      "<class 'pandas.core.frame.DataFrame'>\n",
      "RangeIndex: 484330 entries, 0 to 484329\n",
      "Data columns (total 11 columns):\n",
      " #   Column       Non-Null Count   Dtype              \n",
      "---  ------       --------------   -----              \n",
      " 0   Invoice      484329 non-null  float64            \n",
      " 1   StockCode    484330 non-null  object             \n",
      " 2   Description  484330 non-null  object             \n",
      " 3   Quantity     484330 non-null  int64              \n",
      " 4   InvoiceDate  484330 non-null  datetime64[ns, UTC]\n",
      " 5   Price        484330 non-null  float64            \n",
      " 6   Customer ID  367058 non-null  float64            \n",
      " 7   Country      484330 non-null  object             \n",
      " 8   date         484330 non-null  object             \n",
      " 9   revenue      484330 non-null  float64            \n",
      " 10  year         484330 non-null  int64              \n",
      "dtypes: datetime64[ns, UTC](1), float64(4), int64(2), object(4)\n",
      "memory usage: 40.6+ MB\n"
     ]
    }
   ],
   "source": [
    "twentyeleven_data['InvoiceDate'] = pd.to_datetime(twentyeleven_data['InvoiceDate'])\n",
    "twentyeleven_data.info()"
   ]
  },
  {
   "cell_type": "code",
   "execution_count": 9,
   "metadata": {},
   "outputs": [
    {
     "data": {
      "text/plain": [
       "0         1\n",
       "1         1\n",
       "2         1\n",
       "3         1\n",
       "4         1\n",
       "         ..\n",
       "484325    4\n",
       "484326    4\n",
       "484327    4\n",
       "484328    4\n",
       "484329    4\n",
       "Name: InvoiceDate, Length: 484330, dtype: int32"
      ]
     },
     "execution_count": 9,
     "metadata": {},
     "output_type": "execute_result"
    }
   ],
   "source": [
    "twentyeleven_data['InvoiceDate'].dt.year\n",
    "twentyeleven_data['InvoiceDate'].dt.weekday\n"
   ]
  },
  {
   "cell_type": "code",
   "execution_count": 10,
   "metadata": {},
   "outputs": [
    {
     "data": {
      "text/plain": [
       "0         01 - 2011\n",
       "1         01 - 2011\n",
       "2         01 - 2011\n",
       "3         01 - 2011\n",
       "4         01 - 2011\n",
       "            ...    \n",
       "484325    12 - 2011\n",
       "484326    12 - 2011\n",
       "484327    12 - 2011\n",
       "484328    12 - 2011\n",
       "484329    12 - 2011\n",
       "Name: InvoiceDate, Length: 484330, dtype: object"
      ]
     },
     "execution_count": 10,
     "metadata": {},
     "output_type": "execute_result"
    }
   ],
   "source": [
    "twentyeleven_data['InvoiceDate'].dt.strftime('%m - %Y')"
   ]
  },
  {
   "cell_type": "code",
   "execution_count": 11,
   "metadata": {},
   "outputs": [
    {
     "data": {
      "text/html": [
       "<div>\n",
       "<style scoped>\n",
       "    .dataframe tbody tr th:only-of-type {\n",
       "        vertical-align: middle;\n",
       "    }\n",
       "\n",
       "    .dataframe tbody tr th {\n",
       "        vertical-align: top;\n",
       "    }\n",
       "\n",
       "    .dataframe thead th {\n",
       "        text-align: right;\n",
       "    }\n",
       "</style>\n",
       "<table border=\"1\" class=\"dataframe\">\n",
       "  <thead>\n",
       "    <tr style=\"text-align: right;\">\n",
       "      <th></th>\n",
       "      <th>Invoice</th>\n",
       "      <th>StockCode</th>\n",
       "      <th>Description</th>\n",
       "      <th>Quantity</th>\n",
       "      <th>InvoiceDate</th>\n",
       "      <th>Price</th>\n",
       "      <th>Customer ID</th>\n",
       "      <th>Country</th>\n",
       "      <th>date</th>\n",
       "      <th>revenue</th>\n",
       "      <th>year</th>\n",
       "      <th>month_year</th>\n",
       "    </tr>\n",
       "  </thead>\n",
       "  <tbody>\n",
       "    <tr>\n",
       "      <th>0</th>\n",
       "      <td>539993.0</td>\n",
       "      <td>22386</td>\n",
       "      <td>JUMBO BAG PINK POLKADOT</td>\n",
       "      <td>10</td>\n",
       "      <td>2011-01-04 10:00:00+00:00</td>\n",
       "      <td>1.95</td>\n",
       "      <td>13313.0</td>\n",
       "      <td>United Kingdom</td>\n",
       "      <td>2011-01-04</td>\n",
       "      <td>19.50</td>\n",
       "      <td>2011</td>\n",
       "      <td>01 - 2011</td>\n",
       "    </tr>\n",
       "    <tr>\n",
       "      <th>1</th>\n",
       "      <td>539993.0</td>\n",
       "      <td>21499</td>\n",
       "      <td>BLUE POLKADOT WRAP</td>\n",
       "      <td>25</td>\n",
       "      <td>2011-01-04 10:00:00+00:00</td>\n",
       "      <td>0.42</td>\n",
       "      <td>13313.0</td>\n",
       "      <td>United Kingdom</td>\n",
       "      <td>2011-01-04</td>\n",
       "      <td>10.50</td>\n",
       "      <td>2011</td>\n",
       "      <td>01 - 2011</td>\n",
       "    </tr>\n",
       "    <tr>\n",
       "      <th>2</th>\n",
       "      <td>539993.0</td>\n",
       "      <td>21498</td>\n",
       "      <td>RED RETROSPOT WRAP</td>\n",
       "      <td>25</td>\n",
       "      <td>2011-01-04 10:00:00+00:00</td>\n",
       "      <td>0.42</td>\n",
       "      <td>13313.0</td>\n",
       "      <td>United Kingdom</td>\n",
       "      <td>2011-01-04</td>\n",
       "      <td>10.50</td>\n",
       "      <td>2011</td>\n",
       "      <td>01 - 2011</td>\n",
       "    </tr>\n",
       "    <tr>\n",
       "      <th>3</th>\n",
       "      <td>539993.0</td>\n",
       "      <td>22379</td>\n",
       "      <td>RECYCLING BAG RETROSPOT</td>\n",
       "      <td>5</td>\n",
       "      <td>2011-01-04 10:00:00+00:00</td>\n",
       "      <td>2.10</td>\n",
       "      <td>13313.0</td>\n",
       "      <td>United Kingdom</td>\n",
       "      <td>2011-01-04</td>\n",
       "      <td>10.50</td>\n",
       "      <td>2011</td>\n",
       "      <td>01 - 2011</td>\n",
       "    </tr>\n",
       "    <tr>\n",
       "      <th>4</th>\n",
       "      <td>539993.0</td>\n",
       "      <td>20718</td>\n",
       "      <td>RED RETROSPOT SHOPPER BAG</td>\n",
       "      <td>10</td>\n",
       "      <td>2011-01-04 10:00:00+00:00</td>\n",
       "      <td>1.25</td>\n",
       "      <td>13313.0</td>\n",
       "      <td>United Kingdom</td>\n",
       "      <td>2011-01-04</td>\n",
       "      <td>12.50</td>\n",
       "      <td>2011</td>\n",
       "      <td>01 - 2011</td>\n",
       "    </tr>\n",
       "    <tr>\n",
       "      <th>...</th>\n",
       "      <td>...</td>\n",
       "      <td>...</td>\n",
       "      <td>...</td>\n",
       "      <td>...</td>\n",
       "      <td>...</td>\n",
       "      <td>...</td>\n",
       "      <td>...</td>\n",
       "      <td>...</td>\n",
       "      <td>...</td>\n",
       "      <td>...</td>\n",
       "      <td>...</td>\n",
       "      <td>...</td>\n",
       "    </tr>\n",
       "    <tr>\n",
       "      <th>484325</th>\n",
       "      <td>581587.0</td>\n",
       "      <td>22899</td>\n",
       "      <td>CHILDREN'S APRON DOLLY GIRL</td>\n",
       "      <td>6</td>\n",
       "      <td>2011-12-09 12:50:00+00:00</td>\n",
       "      <td>2.10</td>\n",
       "      <td>12680.0</td>\n",
       "      <td>France</td>\n",
       "      <td>2011-12-09</td>\n",
       "      <td>12.60</td>\n",
       "      <td>2011</td>\n",
       "      <td>12 - 2011</td>\n",
       "    </tr>\n",
       "    <tr>\n",
       "      <th>484326</th>\n",
       "      <td>581587.0</td>\n",
       "      <td>23254</td>\n",
       "      <td>CHILDRENS CUTLERY DOLLY GIRL</td>\n",
       "      <td>4</td>\n",
       "      <td>2011-12-09 12:50:00+00:00</td>\n",
       "      <td>4.15</td>\n",
       "      <td>12680.0</td>\n",
       "      <td>France</td>\n",
       "      <td>2011-12-09</td>\n",
       "      <td>16.60</td>\n",
       "      <td>2011</td>\n",
       "      <td>12 - 2011</td>\n",
       "    </tr>\n",
       "    <tr>\n",
       "      <th>484327</th>\n",
       "      <td>581587.0</td>\n",
       "      <td>23255</td>\n",
       "      <td>CHILDRENS CUTLERY CIRCUS PARADE</td>\n",
       "      <td>4</td>\n",
       "      <td>2011-12-09 12:50:00+00:00</td>\n",
       "      <td>4.15</td>\n",
       "      <td>12680.0</td>\n",
       "      <td>France</td>\n",
       "      <td>2011-12-09</td>\n",
       "      <td>16.60</td>\n",
       "      <td>2011</td>\n",
       "      <td>12 - 2011</td>\n",
       "    </tr>\n",
       "    <tr>\n",
       "      <th>484328</th>\n",
       "      <td>581587.0</td>\n",
       "      <td>22138</td>\n",
       "      <td>BAKING SET 9 PIECE RETROSPOT</td>\n",
       "      <td>3</td>\n",
       "      <td>2011-12-09 12:50:00+00:00</td>\n",
       "      <td>4.95</td>\n",
       "      <td>12680.0</td>\n",
       "      <td>France</td>\n",
       "      <td>2011-12-09</td>\n",
       "      <td>14.85</td>\n",
       "      <td>2011</td>\n",
       "      <td>12 - 2011</td>\n",
       "    </tr>\n",
       "    <tr>\n",
       "      <th>484329</th>\n",
       "      <td>581587.0</td>\n",
       "      <td>POST</td>\n",
       "      <td>POSTAGE</td>\n",
       "      <td>1</td>\n",
       "      <td>2011-12-09 12:50:00+00:00</td>\n",
       "      <td>18.00</td>\n",
       "      <td>12680.0</td>\n",
       "      <td>France</td>\n",
       "      <td>2011-12-09</td>\n",
       "      <td>18.00</td>\n",
       "      <td>2011</td>\n",
       "      <td>12 - 2011</td>\n",
       "    </tr>\n",
       "  </tbody>\n",
       "</table>\n",
       "<p>484330 rows × 12 columns</p>\n",
       "</div>"
      ],
      "text/plain": [
       "         Invoice StockCode                      Description  Quantity  \\\n",
       "0       539993.0     22386          JUMBO BAG PINK POLKADOT        10   \n",
       "1       539993.0     21499               BLUE POLKADOT WRAP        25   \n",
       "2       539993.0     21498               RED RETROSPOT WRAP        25   \n",
       "3       539993.0     22379          RECYCLING BAG RETROSPOT         5   \n",
       "4       539993.0     20718        RED RETROSPOT SHOPPER BAG        10   \n",
       "...          ...       ...                              ...       ...   \n",
       "484325  581587.0     22899      CHILDREN'S APRON DOLLY GIRL         6   \n",
       "484326  581587.0     23254     CHILDRENS CUTLERY DOLLY GIRL         4   \n",
       "484327  581587.0     23255  CHILDRENS CUTLERY CIRCUS PARADE         4   \n",
       "484328  581587.0     22138     BAKING SET 9 PIECE RETROSPOT         3   \n",
       "484329  581587.0      POST                          POSTAGE         1   \n",
       "\n",
       "                     InvoiceDate  Price  Customer ID         Country  \\\n",
       "0      2011-01-04 10:00:00+00:00   1.95      13313.0  United Kingdom   \n",
       "1      2011-01-04 10:00:00+00:00   0.42      13313.0  United Kingdom   \n",
       "2      2011-01-04 10:00:00+00:00   0.42      13313.0  United Kingdom   \n",
       "3      2011-01-04 10:00:00+00:00   2.10      13313.0  United Kingdom   \n",
       "4      2011-01-04 10:00:00+00:00   1.25      13313.0  United Kingdom   \n",
       "...                          ...    ...          ...             ...   \n",
       "484325 2011-12-09 12:50:00+00:00   2.10      12680.0          France   \n",
       "484326 2011-12-09 12:50:00+00:00   4.15      12680.0          France   \n",
       "484327 2011-12-09 12:50:00+00:00   4.15      12680.0          France   \n",
       "484328 2011-12-09 12:50:00+00:00   4.95      12680.0          France   \n",
       "484329 2011-12-09 12:50:00+00:00  18.00      12680.0          France   \n",
       "\n",
       "              date  revenue  year month_year  \n",
       "0       2011-01-04    19.50  2011  01 - 2011  \n",
       "1       2011-01-04    10.50  2011  01 - 2011  \n",
       "2       2011-01-04    10.50  2011  01 - 2011  \n",
       "3       2011-01-04    10.50  2011  01 - 2011  \n",
       "4       2011-01-04    12.50  2011  01 - 2011  \n",
       "...            ...      ...   ...        ...  \n",
       "484325  2011-12-09    12.60  2011  12 - 2011  \n",
       "484326  2011-12-09    16.60  2011  12 - 2011  \n",
       "484327  2011-12-09    16.60  2011  12 - 2011  \n",
       "484328  2011-12-09    14.85  2011  12 - 2011  \n",
       "484329  2011-12-09    18.00  2011  12 - 2011  \n",
       "\n",
       "[484330 rows x 12 columns]"
      ]
     },
     "execution_count": 11,
     "metadata": {},
     "output_type": "execute_result"
    }
   ],
   "source": [
    "twentyeleven_data['month_year'] = twentyeleven_data['InvoiceDate'].dt.strftime('%m - %Y')\n",
    "twentyeleven_data"
   ]
  },
  {
   "cell_type": "code",
   "execution_count": 12,
   "metadata": {},
   "outputs": [
    {
     "data": {
      "text/plain": [
       "Timestamp('2011-12-09 12:50:00+0000', tz='UTC')"
      ]
     },
     "execution_count": 12,
     "metadata": {},
     "output_type": "execute_result"
    }
   ],
   "source": [
    "twentyeleven_data['InvoiceDate'].max()"
   ]
  },
  {
   "cell_type": "code",
   "execution_count": 13,
   "metadata": {},
   "outputs": [
    {
     "data": {
      "text/plain": [
       "Timestamp('2011-01-04 10:00:00+0000', tz='UTC')"
      ]
     },
     "execution_count": 13,
     "metadata": {},
     "output_type": "execute_result"
    }
   ],
   "source": [
    "twentyeleven_data['InvoiceDate'].min()"
   ]
  },
  {
   "cell_type": "code",
   "execution_count": 14,
   "metadata": {},
   "outputs": [
    {
     "data": {
      "text/plain": [
       "Timedelta('339 days 02:50:00')"
      ]
     },
     "execution_count": 14,
     "metadata": {},
     "output_type": "execute_result"
    }
   ],
   "source": [
    "twentyeleven_data['InvoiceDate'].max() -twentyeleven_data['InvoiceDate'].min()"
   ]
  },
  {
   "cell_type": "code",
   "execution_count": 15,
   "metadata": {},
   "outputs": [],
   "source": [
    "### recency\n",
    "\n",
    "### max date of dataset\n",
    "\n",
    "max_date = twentyeleven_data.InvoiceDate.max()"
   ]
  },
  {
   "cell_type": "code",
   "execution_count": 16,
   "metadata": {},
   "outputs": [
    {
     "data": {
      "text/plain": [
       "Index(['Invoice', 'StockCode', 'Description', 'Quantity', 'InvoiceDate',\n",
       "       'Price', 'Customer ID', 'Country', 'date', 'revenue', 'year',\n",
       "       'month_year'],\n",
       "      dtype='object')"
      ]
     },
     "execution_count": 16,
     "metadata": {},
     "output_type": "execute_result"
    }
   ],
   "source": [
    "twentyeleven_data.columns"
   ]
  },
  {
   "cell_type": "code",
   "execution_count": 17,
   "metadata": {},
   "outputs": [
    {
     "data": {
      "text/html": [
       "<div>\n",
       "<style scoped>\n",
       "    .dataframe tbody tr th:only-of-type {\n",
       "        vertical-align: middle;\n",
       "    }\n",
       "\n",
       "    .dataframe tbody tr th {\n",
       "        vertical-align: top;\n",
       "    }\n",
       "\n",
       "    .dataframe thead th {\n",
       "        text-align: right;\n",
       "    }\n",
       "</style>\n",
       "<table border=\"1\" class=\"dataframe\">\n",
       "  <thead>\n",
       "    <tr style=\"text-align: right;\">\n",
       "      <th></th>\n",
       "      <th>Customer ID</th>\n",
       "      <th>InvoiceDate</th>\n",
       "    </tr>\n",
       "  </thead>\n",
       "  <tbody>\n",
       "    <tr>\n",
       "      <th>0</th>\n",
       "      <td>12347.0</td>\n",
       "      <td>2011-12-07 15:52:00+00:00</td>\n",
       "    </tr>\n",
       "    <tr>\n",
       "      <th>1</th>\n",
       "      <td>12348.0</td>\n",
       "      <td>2011-09-25 13:13:00+00:00</td>\n",
       "    </tr>\n",
       "    <tr>\n",
       "      <th>2</th>\n",
       "      <td>12349.0</td>\n",
       "      <td>2011-11-21 09:51:00+00:00</td>\n",
       "    </tr>\n",
       "    <tr>\n",
       "      <th>3</th>\n",
       "      <td>12350.0</td>\n",
       "      <td>2011-02-02 16:01:00+00:00</td>\n",
       "    </tr>\n",
       "    <tr>\n",
       "      <th>4</th>\n",
       "      <td>12352.0</td>\n",
       "      <td>2011-11-03 14:37:00+00:00</td>\n",
       "    </tr>\n",
       "    <tr>\n",
       "      <th>...</th>\n",
       "      <td>...</td>\n",
       "      <td>...</td>\n",
       "    </tr>\n",
       "    <tr>\n",
       "      <th>4214</th>\n",
       "      <td>18280.0</td>\n",
       "      <td>2011-03-07 09:52:00+00:00</td>\n",
       "    </tr>\n",
       "    <tr>\n",
       "      <th>4215</th>\n",
       "      <td>18281.0</td>\n",
       "      <td>2011-06-12 10:53:00+00:00</td>\n",
       "    </tr>\n",
       "    <tr>\n",
       "      <th>4216</th>\n",
       "      <td>18282.0</td>\n",
       "      <td>2011-12-02 11:43:00+00:00</td>\n",
       "    </tr>\n",
       "    <tr>\n",
       "      <th>4217</th>\n",
       "      <td>18283.0</td>\n",
       "      <td>2011-12-06 12:02:00+00:00</td>\n",
       "    </tr>\n",
       "    <tr>\n",
       "      <th>4218</th>\n",
       "      <td>18287.0</td>\n",
       "      <td>2011-10-28 09:29:00+00:00</td>\n",
       "    </tr>\n",
       "  </tbody>\n",
       "</table>\n",
       "<p>4219 rows × 2 columns</p>\n",
       "</div>"
      ],
      "text/plain": [
       "      Customer ID               InvoiceDate\n",
       "0         12347.0 2011-12-07 15:52:00+00:00\n",
       "1         12348.0 2011-09-25 13:13:00+00:00\n",
       "2         12349.0 2011-11-21 09:51:00+00:00\n",
       "3         12350.0 2011-02-02 16:01:00+00:00\n",
       "4         12352.0 2011-11-03 14:37:00+00:00\n",
       "...           ...                       ...\n",
       "4214      18280.0 2011-03-07 09:52:00+00:00\n",
       "4215      18281.0 2011-06-12 10:53:00+00:00\n",
       "4216      18282.0 2011-12-02 11:43:00+00:00\n",
       "4217      18283.0 2011-12-06 12:02:00+00:00\n",
       "4218      18287.0 2011-10-28 09:29:00+00:00\n",
       "\n",
       "[4219 rows x 2 columns]"
      ]
     },
     "execution_count": 17,
     "metadata": {},
     "output_type": "execute_result"
    }
   ],
   "source": [
    "last_purchase_date = twentyeleven_data.groupby('Customer ID',as_index=False)['InvoiceDate'].max()\n",
    "last_purchase_date"
   ]
  },
  {
   "cell_type": "code",
   "execution_count": 19,
   "metadata": {},
   "outputs": [
    {
     "data": {
      "text/plain": [
       "count                          4219\n",
       "mean     84 days 07:28:44.214268785\n",
       "std      90 days 00:32:32.633204746\n",
       "min                 0 days 00:00:00\n",
       "25%                16 days 23:08:30\n",
       "50%                46 days 22:22:00\n",
       "75%               127 days 21:30:30\n",
       "max               339 days 01:08:00\n",
       "Name: Recency, dtype: object"
      ]
     },
     "execution_count": 19,
     "metadata": {},
     "output_type": "execute_result"
    }
   ],
   "source": [
    "last_purchase_date['Recency'] = max_date - last_purchase_date['InvoiceDate']\n",
    "last_purchase_date['Recency'].describe()"
   ]
  }
 ],
 "metadata": {
  "kernelspec": {
   "display_name": "venv",
   "language": "python",
   "name": "python3"
  },
  "language_info": {
   "codemirror_mode": {
    "name": "ipython",
    "version": 3
   },
   "file_extension": ".py",
   "mimetype": "text/x-python",
   "name": "python",
   "nbconvert_exporter": "python",
   "pygments_lexer": "ipython3",
   "version": "3.10.8"
  },
  "orig_nbformat": 4
 },
 "nbformat": 4,
 "nbformat_minor": 2
}
