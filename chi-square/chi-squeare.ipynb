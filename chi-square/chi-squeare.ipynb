{
 "cells": [
  {
   "cell_type": "code",
   "execution_count": 16,
   "metadata": {},
   "outputs": [],
   "source": [
    "from scipy.stats import norm, normaltest, kstest\n",
    "import pandas as pd\n",
    "import numpy as np\n",
    "import scipy.stats as st"
   ]
  },
  {
   "cell_type": "code",
   "execution_count": 11,
   "metadata": {},
   "outputs": [],
   "source": [
    "skus = pd.read_csv('../mean/sku_distributions.csv')\n",
    "dist_names = [\"norm\", \"exponweib\", \"weibull_max\", \"weibull_min\", \"pareto\", \"genextreme\"]\n",
    "apple_juice = np.array(skus['apple_juice'])"
   ]
  },
  {
   "cell_type": "code",
   "execution_count": 12,
   "metadata": {},
   "outputs": [
    {
     "name": "stdout",
     "output_type": "stream",
     "text": [
      "100.73873873873873 20.190256493370235\n"
     ]
    }
   ],
   "source": [
    "mean = apple_juice.mean()\n",
    "sd = apple_juice.std()\n",
    "print(mean, sd)"
   ]
  },
  {
   "cell_type": "code",
   "execution_count": 13,
   "metadata": {},
   "outputs": [
    {
     "data": {
      "text/plain": [
       "KstestResult(statistic=0.04011911785947586, pvalue=0.6423077067552097, statistic_location=100, statistic_sign=1)"
      ]
     },
     "execution_count": 13,
     "metadata": {},
     "output_type": "execute_result"
    }
   ],
   "source": [
    "kstest(apple_juice, 'norm', args=(mean, sd))"
   ]
  },
  {
   "cell_type": "code",
   "execution_count": 14,
   "metadata": {},
   "outputs": [],
   "source": [
    "result = []\n",
    "parmaters = {}"
   ]
  },
  {
   "cell_type": "code",
   "execution_count": 17,
   "metadata": {},
   "outputs": [
    {
     "data": {
      "text/plain": [
       "(100.73873873873873, 20.190256493370235)"
      ]
     },
     "execution_count": 17,
     "metadata": {},
     "output_type": "execute_result"
    }
   ],
   "source": [
    "norm_param = getattr(st,'norm')\n",
    "norm_param.fit(apple_juice)\n"
   ]
  },
  {
   "cell_type": "code",
   "execution_count": 18,
   "metadata": {},
   "outputs": [
    {
     "name": "stdout",
     "output_type": "stream",
     "text": [
      "the result for dist norm is KstestResult(statistic=0.04011911785947586, pvalue=0.6423077067552097, statistic_location=100, statistic_sign=1)\n",
      "the result for dist exponweib is KstestResult(statistic=0.7149966358707146, pvalue=1.1842591378527938e-172, statistic_location=65, statistic_sign=-1)\n",
      "the result for dist weibull_max is KstestResult(statistic=0.8212900008150043, pvalue=2.2685136143704807e-247, statistic_location=137, statistic_sign=1)\n",
      "the result for dist weibull_min is KstestResult(statistic=0.05066313604084688, pvalue=0.34810501680216566, statistic_location=90, statistic_sign=-1)\n",
      "the result for dist pareto is KstestResult(statistic=0.32350507467853473, pvalue=1.6172750367237283e-31, statistic_location=84, statistic_sign=-1)\n",
      "the result for dist genextreme is KstestResult(statistic=0.054783931499283955, pvalue=0.26068355451614744, statistic_location=90, statistic_sign=-1)\n"
     ]
    },
    {
     "name": "stderr",
     "output_type": "stream",
     "text": [
      "/Users/bryhansalazar/Documents/workspace-python/supply-chain-data-science-project/venv/lib/python3.9/site-packages/scipy/stats/_continuous_distns.py:2008: RuntimeWarning: invalid value encountered in add\n",
      "  logp = (np.log(a) + np.log(c) + sc.xlogy(a - 1.0, exm1c) +\n"
     ]
    }
   ],
   "source": [
    "for dist in dist_names:\n",
    "    param = getattr(st,dist)\n",
    "    fitting = param.fit(apple_juice)\n",
    "    test = kstest(apple_juice, dist, args=fitting)\n",
    "    result.append([dist,test])\n",
    "    print(\"the result for dist \" + dist + \" is \" + str(test))\n"
   ]
  }
 ],
 "metadata": {
  "kernelspec": {
   "display_name": "venv",
   "language": "python",
   "name": "python3"
  },
  "language_info": {
   "codemirror_mode": {
    "name": "ipython",
    "version": 3
   },
   "file_extension": ".py",
   "mimetype": "text/x-python",
   "name": "python",
   "nbconvert_exporter": "python",
   "pygments_lexer": "ipython3",
   "version": "3.9.6"
  },
  "orig_nbformat": 4
 },
 "nbformat": 4,
 "nbformat_minor": 2
}
